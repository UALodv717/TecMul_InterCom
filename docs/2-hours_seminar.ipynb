{
 "cells": [
  {
   "cell_type": "code",
   "execution_count": null,
   "metadata": {},
   "outputs": [],
   "source": [
    "## Enable horizontal scroll in shell outputs (optional)\n",
    "from IPython.display import display, HTML\n",
    "display(HTML(\"<style>pre { white-space: pre !important; }</style>\"))"
   ]
  },
  {
   "cell_type": "markdown",
   "metadata": {},
   "source": [
    "## To run this notebook:\n",
    "1. <font color='red'>In Windows, follow <a href=\"https://gist.github.com/vicente-gonzalez-ruiz/afa958f0829d935858e56f8afe12512b\">this Gist</a>.</font>\n",
    "2. <font color='red'>In Linux (and OSX), follow follow <a href=\"https://gist.github.com/vicente-gonzalez-ruiz/ad8c70840415301c628e839eaa4b4a2d\">this Gist</a>.</font>"
   ]
  },
  {
   "cell_type": "markdown",
   "metadata": {},
   "source": [
    "# [InterCom](https://github.com/Tecnologias-multimedia/intercom): a [Real-Time](https://en.wikipedia.org/wiki/Real-time) [Digital Audio](https://en.wikipedia.org/wiki/Digital_audio) [Full-Duplex](https://en.wikipedia.org/wiki/Duplex_(telecommunications)#FULL-DUPLEX) [Transmitter/Receiver](https://en.wikipedia.org/w/index.php?title=Data_transmission&redirect=no)"
   ]
  },
  {
   "cell_type": "code",
   "execution_count": null,
   "metadata": {},
   "outputs": [],
   "source": [
    "!pip install -r ../requirements.txt"
   ]
  },
  {
   "cell_type": "code",
   "execution_count": null,
   "metadata": {},
   "outputs": [],
   "source": [
    "!cat ../requirements.txt"
   ]
  },
  {
   "cell_type": "markdown",
   "metadata": {},
   "source": [
    "## Contents\n",
    "\n",
    "1. What is InterCom?\n",
    "2. Hiding the jitter.\n",
    "3. Compression with DEFLATE.\n",
    "4. A simple bit-rate control through quantization.\n",
    "5. Removing intra-frame redundancy.\n",
    "6. Removing intra-channel redundancy.\n",
    "7. Perceptual coding.\n",
    "8. Next improvements."
   ]
  },
  {
   "cell_type": "markdown",
   "metadata": {},
   "source": [
    "## 1. What is InterCom?\n",
    "\n",
    "* InterCom is a [full-duplex](https://en.wikipedia.org/wiki/Duplex_(telecommunications)#FULL-DUPLEX) real-time [intercommunicator](https://en.wikipedia.org/wiki/Intercom) for digital ([PCM](https://en.wikipedia.org/wiki/Pulse-code_modulation)) audio, that uses [the Internet](https://en.wikipedia.org/wiki/Internet)."
   ]
  },
  {
   "cell_type": "markdown",
   "metadata": {},
   "source": [
    "### A [minimal](https://tecnologias-multimedia.github.io/study_guide/minimal/) implementation\n",
    "\n",
    "* In [`minimal.py`](https://github.com/Tecnologias-multimedia/InterCom/blob/master/src/minimal.py), the sender (of audio) splits a sequence of [frames](https://python-sounddevice.readthedocs.io/en/0.3.12/api.html) (two [stereo](https://en.wikipedia.org/wiki/Stereophonic_sound) [samples](https://en.wikipedia.org/wiki/Sampling_(signal_processing))) in chunks (of constant length) and each one is transmitted in an [UDP](https://en.wikipedia.org/wiki/User_Datagram_Protocol) packet. At the receiver, the sequence of frames is reconstructed and played.\n",
    "\n",
    "        +-------------------------+                    +-------------------------+\n",
    "        | Host A                  |                    | Host B                  |\n",
    "        |  +----------+           |                    |           +----------+  |\n",
    "        |  | InterCom |    +------+    +----------+    +------+    | InterCom |  |\n",
    "        |  | process  |<-->| 4444 |<-->| Internet |<-->| 4444 |<-->| process  |  |\n",
    "        |  +----------+    +------+    +----------+    +------+    +----------+  |\n",
    "        |                         |                    |                         |\n",
    "        +-------------------------+                    +-------------------------+\n",
    "\n",
    "* By default, InterCom sends the audio from the port 4444 to the port 4444 in the `localhost` (Host A == Host B == `localhost`), resulting in that we play the audio that we have just previously recorded, and obviously we don't need any interconexion network. If you want to analyze the sent (and received InterCom's chunks), in a terminal run (only Linux):\n",
    "\n",
    "    `sudo tcpdump -i lo | grep 4444`"
   ]
  },
  {
   "cell_type": "markdown",
   "metadata": {},
   "source": [
    "<p style=\"padding: 10px; border: 2px solid blue;\"><font color='red'>Before running the next cell, please, check that the mic(rophone) and the speakers gains are not too high!</font><p>"
   ]
  },
  {
   "cell_type": "code",
   "execution_count": null,
   "metadata": {},
   "outputs": [],
   "source": [
    "# Run this cell if you have a mic\n",
    "!python ../src/minimal.py --show_stats -t 6"
   ]
  },
  {
   "cell_type": "code",
   "execution_count": null,
   "metadata": {},
   "outputs": [],
   "source": [
    "# Run this cell if the mic does not work\n",
    "!python ../src/minimal.py --show_stats -t 5 -f ../data/AviadorDro_LaZonaFantasma.oga"
   ]
  },
  {
   "cell_type": "code",
   "execution_count": null,
   "metadata": {
    "scrolled": true
   },
   "outputs": [],
   "source": [
    "# Run this cell if you are using a virtual machine or very old real one, and the previous examples do not work\n",
    "!python ../src/minimal.py --show_stats -t 5 -s 8000 -f ../data/AviadorDro_LaZonaFantasma_8000Hz.oga --frames_per_chunk 256"
   ]
  },
  {
   "cell_type": "markdown",
   "metadata": {},
   "source": [
    "## Internet usage (example)\n",
    "\n",
    "           Local (NAT-ed) network A      Internet      Local (NAT-ed) network B\n",
    "        =============================== ========== ===============================\n",
    "\n",
    "             Host A            NAT_A                   NAT B           Host B\n",
    "        +-------------+    +----------+            +----------+    +-------------+\n",
    "        | InterCom    |    |          |            |          |    |    InterCom |\n",
    "        | process     |<-->|     4444 |<-- .... -->| 4444     |<-->|     process |\n",
    "        |        4444 |    |          |            |          |    | 4444        |\n",
    "        +-------------+    +----------+            +----------+    +-------------+\n",
    "\n",
    "\n",
    "        Host A> python minimal.py --destination_address NAT_B_public_IP_address\n",
    "        Host B> python minimal.py --destination_address NAT_A_public_IP_address"
   ]
  },
  {
   "cell_type": "markdown",
   "metadata": {},
   "source": [
    "## 2. [Hiding](https://tecnologias-multimedia.github.io/study_guide/latency/) the [packet jitter](https://en.wikipedia.org/wiki/Packet_delay_variation)\n",
    "\n",
    "* The communication network (Internet) usually delays a random amount of time the transmission of the chunks, i.e., generates a jitter (packet delay-variation during the transmission of a sequence of packets).\n",
    "\n",
    "* This jitter can be hiden through the [buffering](https://tecnologias-multimedia.github.io/contents/latency/) (delaying) of the received chunks, before playing them (left: the problem, right: a solution):\n",
    "\n",
    "![With and without buffering](https://tecnologias-multimedia.github.io/contents/latency/graphics/timelines.svg)\n",
    "<!-- ![With and without buffering](/home/vruiz/timelines.svg)\n",
    "![With and without buffering](./tmp/timelines.svg)\n",
    "![With and without buffering](../../../timelines.svg) -->\n",
    "\n",
    "* The buffer size depends on the user's preferences (the larger the buffer, the lower the number of (too much delayed) lost chunks)."
   ]
  },
  {
   "cell_type": "markdown",
   "metadata": {},
   "source": [
    "### Measuring the jitter in my host"
   ]
  },
  {
   "cell_type": "markdown",
   "metadata": {},
   "source": [
    "Using `ping`. \n",
    "![RTT and ping](https://tecnologias-multimedia.github.io/contents/latency/graphics/ping_timeline.svg)\n",
    "<center>$t_t =$ Transmission Time, $t_p =$ Propagation Time</center>\n",
    "\n",
    "* The `min/avg/max/mdev` represents the minimum [RTT](https://en.wikipedia.org/wiki/Round-trip_delay) / average RTT / maximum RTT / standard deviation of the RTT.\n",
    "* Latency is the RTT divided by 2.\n",
    "* Usually, the jitter that we want to hide is the `mdev`/2.\n",
    "\n",
    "In my host:\n",
    "\n",
    "    Host A == Host B == localhost."
   ]
  },
  {
   "cell_type": "markdown",
   "metadata": {},
   "source": [
    "#### Linux/OSX:"
   ]
  },
  {
   "cell_type": "code",
   "execution_count": null,
   "metadata": {},
   "outputs": [],
   "source": [
    "!ping -c 3 localhost"
   ]
  },
  {
   "cell_type": "markdown",
   "metadata": {},
   "source": [
    "#### Windows:"
   ]
  },
  {
   "cell_type": "code",
   "execution_count": null,
   "metadata": {},
   "outputs": [],
   "source": [
    "!ping -n 3 localhost"
   ]
  },
  {
   "cell_type": "markdown",
   "metadata": {},
   "source": [
    "* Unfortunately, the `localhost` link is too good (low latency, high throughput) to simulate typical transmissions scenarios :-/"
   ]
  },
  {
   "cell_type": "markdown",
   "metadata": {},
   "source": [
    "### How is the jitter in the Internet?\n",
    "Pinging the Google domain name server 8.8.8.8."
   ]
  },
  {
   "cell_type": "markdown",
   "metadata": {},
   "source": [
    "#### Linux/OSX:"
   ]
  },
  {
   "cell_type": "code",
   "execution_count": null,
   "metadata": {},
   "outputs": [],
   "source": [
    "!ping -c 3 8.8.8.8"
   ]
  },
  {
   "cell_type": "markdown",
   "metadata": {},
   "source": [
    "#### Windows:"
   ]
  },
  {
   "cell_type": "code",
   "execution_count": null,
   "metadata": {},
   "outputs": [],
   "source": [
    "!ping -n 3 8.8.8.8"
   ]
  },
  {
   "cell_type": "markdown",
   "metadata": {},
   "source": [
    "* OK, it's clear that if we want to simulate a real scenario using `localhost` then we need to add some random latency."
   ]
  },
  {
   "cell_type": "markdown",
   "metadata": {},
   "source": [
    "### Increase latency and jitter for the `localhost` link (only Linux)\n",
    "* Using [`tc`](https://man7.org/linux/man-pages/man8/tc.8.html) (Traffic Control).\n",
    "* Example with:\n",
    "    * Average latency = 20 ms (average RTT = 40 ms).\n",
    "    * Average `mdev` = 5 ms.\n",
    "    * [Perarson correlation coefficient](https://en.wikipedia.org/wiki/Pearson_correlation_coefficient) between delays = 0.25 (1.0 means total [correlation](https://en.wikipedia.org/wiki/Correlation) between consecutive transmissions, 0.0 implies no correlation).\n",
    "    * Statistical distribution of the RTTs = [normal](https://en.wikipedia.org/wiki/Normal_distribution).\n",
    "* We see the effects in `ping`."
   ]
  },
  {
   "cell_type": "markdown",
   "metadata": {},
   "source": [
    "<p style=\"padding: 10px; border: 2px solid blue;\"><font color='red'>Please, before running the next cell, be sure that sudo does NOT request a password (open a terminal and run, for example, `sudo ls`). If a password is required, add the line `your_username ALL=(ALL) NOPASSWD: ALL` at the end of the `/etc/sudoers` file.</font><p>"
   ]
  },
  {
   "cell_type": "markdown",
   "metadata": {},
   "source": [
    "<p style=\"padding: 10px; border: 2px solid blue;\"><font color='red'>You must be aware that the modification of the latency/throughput of the `localhost` adapter affect also to the refresing time of this notebook! Please, be patient.</font><p>"
   ]
  },
  {
   "cell_type": "code",
   "execution_count": null,
   "metadata": {},
   "outputs": [],
   "source": [
    "avg_latency = 300\n",
    "mean_deviation = 50\n",
    "correlation = 25\n",
    "distribution = \"normal\"\n",
    "\n",
    "# Activate tc rules\n",
    "!tc qdisc show dev lo\n",
    "!sudo tc qdisc add dev lo root handle 1: netem delay {avg_latency}ms {mean_deviation}ms {correlation}% distribution {distribution}\n",
    "\n",
    "# Show rules    \n",
    "!tc qdisc show dev lo\n",
    "\n",
    "# See the effect\n",
    "!ping -c 3 localhost\n",
    "\n",
    "# Remove rules\n",
    "!sudo tc qdisc del dev lo root\n",
    "!tc qdisc show dev lo\n",
    "\n",
    "# See the effect\n",
    "!ping -c 3 localhost"
   ]
  },
  {
   "cell_type": "markdown",
   "metadata": {},
   "source": [
    "### Let's listen again to minimal\n",
    "... using a high jitter."
   ]
  },
  {
   "cell_type": "code",
   "execution_count": null,
   "metadata": {},
   "outputs": [],
   "source": [
    "# Real machine\n",
    "\n",
    "avg_latency = 300\n",
    "mean_deviation = 50\n",
    "correlation = 25\n",
    "distribution = \"normal\"\n",
    "\n",
    "!tc qdisc show dev lo\n",
    "!sudo tc qdisc add dev lo root handle 1: netem delay {avg_latency}ms {mean_deviation}ms {correlation}% distribution {distribution}\n",
    "!tc qdisc show dev lo\n",
    "\n",
    "#!python ../src/minimal.py --show_stats -t 5  # If you want to listen to yourself\n",
    "!python ../src/minimal.py --show_stats -t 5 -f ../data/AviadorDro_LaZonaFantasma.oga\n",
    "\n",
    "!sudo tc qdisc del dev lo root\n",
    "!tc qdisc show dev lo"
   ]
  },
  {
   "cell_type": "code",
   "execution_count": null,
   "metadata": {},
   "outputs": [],
   "source": [
    "# Virtual machine\n",
    "\n",
    "avg_latency = 300\n",
    "mean_deviation = 50\n",
    "correlation = 25\n",
    "distribution = \"normal\"\n",
    "\n",
    "!tc qdisc show dev lo\n",
    "!sudo tc qdisc add dev lo root handle 1: netem delay {avg_latency}ms {mean_deviation}ms {correlation}% distribution {distribution}\n",
    "!tc qdisc show dev lo\n",
    "\n",
    "#!python ../src/minimal.py --show_stats -t 5\n",
    "#!python ../src/minimal.py --show_stats -t 5 --frames_per_second 8000 #--frames_per_chunk 256\n",
    "#!python ../src/minimal.py --show_stats -t 5 -f ../data/AviadorDro_LaZonaFantasma.oga #--frames_per_second 8000\n",
    "!python ../src/minimal.py --show_stats -t 5 -s 8000 -f ../data/AviadorDro_LaZonaFantasma_8000Hz.oga --frames_per_chunk 256\n",
    "\n",
    "!sudo tc qdisc del dev lo root\n",
    "!tc qdisc show dev lo"
   ]
  },
  {
   "cell_type": "markdown",
   "metadata": {},
   "source": [
    "### Quite bad :-/ The chunks are not arriving with a constant cadence to the receiver"
   ]
  },
  {
   "cell_type": "markdown",
   "metadata": {},
   "source": [
    "### Let's hidden the jitter\n",
    "* The default buffering time in InterCom is 150 ms (see `buffer.py -h`)."
   ]
  },
  {
   "cell_type": "code",
   "execution_count": null,
   "metadata": {},
   "outputs": [],
   "source": [
    "avg_latency = 30\n",
    "mean_deviation = 25\n",
    "correlation = 25\n",
    "distribution = \"normal\"\n",
    "\n",
    "!tc qdisc show dev lo\n",
    "!sudo tc qdisc add dev lo root handle 1: netem delay {avg_latency}ms {mean_deviation}ms {correlation}% distribution {distribution}\n",
    "!tc qdisc show dev lo\n",
    "\n",
    "!ping -c 3 localhost\n",
    "\n",
    "#!python ../src/buffer.py --show_stats -t 5\n",
    "!python ../src/buffer.py --show_stats -B 300 -t 5 -f ../data/AviadorDro_LaZonaFantasma.oga\n",
    "\n",
    "# Remove rules\n",
    "!sudo tc qdisc del dev lo root\n",
    "!tc qdisc show dev lo"
   ]
  },
  {
   "cell_type": "markdown",
   "metadata": {},
   "source": [
    "### Much better!"
   ]
  },
  {
   "cell_type": "markdown",
   "metadata": {},
   "source": [
    "## 3. [Compression with DEFLATE](https://tecnologias-multimedia.github.io/study_guide/BR_control/#x1-40001.2)"
   ]
  },
  {
   "cell_type": "markdown",
   "metadata": {},
   "source": [
    "### Estimation of the [throughput](https://en.wikipedia.org/wiki/Throughput) of the `localhost` link (only Linux)\n",
    "\n",
    "* Notice that the following technique depends heavily on the packet size, that using `ping` is limited to 64 KB (including the IP header). For this reason, our results will be only approximated :-/"
   ]
  },
  {
   "cell_type": "code",
   "execution_count": null,
   "metadata": {},
   "outputs": [],
   "source": [
    "!ping -c 1 -s 65507 localhost > /tmp/1\n",
    "!cat /tmp/1\n",
    "!grep rtt /tmp/1 | cut -f 5 -d \"/\" > /tmp/2\n",
    "f = open(\"/tmp/2\")\n",
    "time = f.read()\n",
    "print(\"transmission time =\", time)\n",
    "print(\"GBPS =\", 65507*8/float(time)/2/1000/1000)"
   ]
  },
  {
   "cell_type": "markdown",
   "metadata": {},
   "source": [
    "* Too high! We need harder bandwidth conditions for testing InterCom, which without compression requires:\n",
    "\n",
    "\\begin{equation}\n",
    "\\frac{44100\\frac{\\text{frames}}{\\text{second}}\\times 2\\frac{\\text{samples}}{\\text{frame}}\\times 2\\frac{\\text{bytes}}{\\text{sample}}\\times 8\\frac{\\text{bits}}{\\text{byte}}}{1000} = 1411.2 ~\\text{KBPS} \\approx 1.4~\\text{MBPS}\n",
    "\\end{equation}"
   ]
  },
  {
   "cell_type": "markdown",
   "metadata": {},
   "source": [
    "### Effect in `ping` of limiting the throughput using `tc` (only Linux)"
   ]
  },
  {
   "cell_type": "code",
   "execution_count": null,
   "metadata": {},
   "outputs": [],
   "source": [
    "avg_latency = 10\n",
    "mean_deviation = 10\n",
    "correlation = 50\n",
    "distribution = \"normal\"\n",
    "throughput = 300 # KBPS\n",
    "\n",
    "# Modify the latency and the throughput\n",
    "!sudo tc qdisc add dev lo root handle 1: netem delay {avg_latency}ms {mean_deviation}ms {correlation}% distribution {distribution}\n",
    "!sudo tc qdisc add dev lo parent 1:1 handle 10: tbf rate {throughput}kbit burst 1024kbit limit 1024kbit\n",
    "\n",
    "# Measure throughput\n",
    "!ping -c 1 -s 65507 localhost > /tmp/1\n",
    "!cat /tmp/1\n",
    "!grep rtt /tmp/1 | cut -f 5 -d \"/\" > /tmp/2\n",
    "f = open(\"/tmp/2\")\n",
    "time = f.read()\n",
    "print(time)\n",
    "\n",
    "# Delete the rules\n",
    "!sudo tc qdisc del dev lo parent 1:1 handle 10:\n",
    "!sudo tc qdisc del dev lo root\n",
    "!tc qdisc show dev lo\n",
    "\n",
    "print(\"Throughput =\", 65507*8/float(time)/2, \"KBPS\")"
   ]
  },
  {
   "cell_type": "markdown",
   "metadata": {},
   "source": [
    "* Well, the limit of the throughput for a burst transmission is not effective, but for a sequence of chunks yes."
   ]
  },
  {
   "cell_type": "markdown",
   "metadata": {},
   "source": [
    "### Effect in InterCom of limiting the throughput using `tc` (only Linux)"
   ]
  },
  {
   "cell_type": "code",
   "execution_count": null,
   "metadata": {
    "scrolled": true
   },
   "outputs": [],
   "source": [
    "avg_latency = 10\n",
    "mean_deviation = 10\n",
    "correlation = 50\n",
    "distribution = \"normal\"\n",
    "throughput = 300 # KBPS\n",
    "\n",
    "!sudo tc qdisc add dev lo root handle 1: netem delay {avg_latency}ms {mean_deviation}ms {correlation}% distribution {distribution}\n",
    "!sudo tc qdisc add dev lo parent 1:1 handle 10: tbf rate {throughput}kbit burst 64kbit limit 64kbit\n",
    "\n",
    "!python ../src/buffer.py --show_stats -t 5 -f ../data/AviadorDro_LaZonaFantasma.oga\n",
    "\n",
    "!sudo tc qdisc del dev lo parent 1:1 handle 10:\n",
    "!sudo tc qdisc del dev lo root\n",
    "!tc qdisc show dev lo"
   ]
  },
  {
   "cell_type": "markdown",
   "metadata": {},
   "source": [
    "### So, depending on the link's thoughput and the bit-rate of the audio ...\n",
    "... a subset of the chunks are not transmitted, because the link is congested :-/"
   ]
  },
  {
   "cell_type": "markdown",
   "metadata": {},
   "source": [
    "### [DEFLATE](https://en.wikipedia.org/wiki/DEFLATE) can mitigate the problem\n",
    "\n",
    "* The chunks can be compressed with [LZSS](https://en.wikipedia.org/wiki/Lempel-Ziv-Storer-Szymanski), that is based on [LZ77](https://github.com/vicente-gonzalez-ruiz/LZ77) and [Huffman Coding](https://vicente-gonzalez-ruiz.github.io/Huffman_coding/).\n",
    "\n",
    "* We have choosen this text compressor codec because:\n",
    "    1. It's fast.\n",
    "    2. Works well when repeated \"strings\" are found at the input.\n",
    "    3. Available in [The Standard Python Library](https://docs.python.org/3/library/) ([zlib](https://docs.python.org/3/library/zlib.html)).\n",
    "    4. Generic (encodes anything), and almost never expands."
   ]
  },
  {
   "cell_type": "code",
   "execution_count": null,
   "metadata": {},
   "outputs": [],
   "source": [
    "avg_latency = 10\n",
    "mean_deviation = 10\n",
    "correlation = 50\n",
    "distribution = \"normal\"\n",
    "throughput = 300 # KBPS\n",
    "\n",
    "!sudo tc qdisc add dev lo root handle 1: netem delay {avg_latency}ms {mean_deviation}ms {correlation}% distribution {distribution}\n",
    "!sudo tc qdisc add dev lo parent 1:1 handle 10: tbf rate {throughput}kbit burst 64kbit limit 64kbit\n",
    "\n",
    "!python ../src/DEFLATE_byteplanes2.py --show_stats -t 5 -f ../data/AviadorDro_LaZonaFantasma.oga\n",
    "\n",
    "!sudo tc qdisc del dev lo parent 1:1 handle 10:\n",
    "!sudo tc qdisc del dev lo root\n",
    "!tc qdisc show dev lo"
   ]
  },
  {
   "cell_type": "markdown",
   "metadata": {},
   "source": [
    "* Notice that still a part of chunks are still lost.\n",
    "\n",
    "###  In general, DEFLATE is not enough :-/ ... We need to compress more!"
   ]
  },
  {
   "cell_type": "markdown",
   "metadata": {},
   "source": [
    "## 4. A simple [bit-rate \"control\"](https://tecnologias-multimedia.github.io/study_guide/BR_control/#x1-60001.4) through [quantization](https://tecnologias-multimedia.github.io/study_guide/BR_control/#x1-50001.3) (and DEFLATE)\n",
    "\n",
    "* **Quantization removes** the less relevant **information** (mainly [electronic noise](https://en.wikipedia.org/wiki/Noise_(electronics)) if the quantization step size is small) and helps to increase the [compression ratio](https://en.wikipedia.org/wiki/Compression_ratio). **Quantization is irreversible**.\n",
    "* In lossy signal compression, [dead-zone quantizers](https://github.com/vicente-gonzalez-ruiz/quantization/blob/master/digital_quantization.ipynb) are commonly used because they tend to generate 0's that like to entropy compressors. We use the quantizer\n",
    "\\begin{equation}\n",
    "  k = \\text{sgn}(x) \\max\\left(0, \\left\\lfloor \\frac{\\left| x \\right|}{\\Delta} + \\frac{1}{2}\\right\\rfloor\\right),\n",
    "\\end{equation}\n",
    "where $k$ is the quantization index, and $\\Delta$ is the quantization step size. The dequantizer is defined by:\n",
    "\\begin{equation}\n",
    "  y = \\Delta k.\n",
    "\\end{equation}\n",
    "* This class of quantizers can operate by bit-planes when $\\Delta$ is a power of 2."
   ]
  },
  {
   "cell_type": "code",
   "execution_count": null,
   "metadata": {},
   "outputs": [],
   "source": [
    "%matplotlib inline\n",
    "\n",
    "import matplotlib\n",
    "import matplotlib.pyplot as plt\n",
    "import matplotlib.axes as ax\n",
    "import math\n",
    "import numpy as np\n",
    "import sounddevice as sd\n",
    "from scipy import signal"
   ]
  },
  {
   "cell_type": "code",
   "execution_count": null,
   "metadata": {},
   "outputs": [],
   "source": [
    "def quantizer(x, quantization_step):\n",
    "    k = (x / quantization_step).astype(np.int16)\n",
    "    return k\n",
    "\n",
    "def dequantizer(k, quantization_step):\n",
    "    y = quantization_step * k\n",
    "    return y"
   ]
  },
  {
   "cell_type": "code",
   "execution_count": null,
   "metadata": {},
   "outputs": [],
   "source": [
    "def plot(x, y, xlabel='', ylabel='', title=''):\n",
    "    fig = plt.figure()\n",
    "    ax = fig.add_subplot(111)\n",
    "    ax.set_title(title)\n",
    "    ax.grid()\n",
    "    ax.xaxis.set_label_text(xlabel)\n",
    "    ax.yaxis.set_label_text(ylabel)\n",
    "    ax.plot(x, y)\n",
    "    plt.show(block=False)"
   ]
  },
  {
   "cell_type": "code",
   "execution_count": null,
   "metadata": {},
   "outputs": [],
   "source": [
    "x = np.linspace(-8, 8, 500) # Input samples\n",
    "k2 = quantizer(x, quantization_step = 2)\n",
    "y2 = dequantizer(k2, quantization_step = 2)\n",
    "k3 = quantizer(x, quantization_step = 3)\n",
    "y3 = dequantizer(k3, quantization_step = 3)"
   ]
  },
  {
   "cell_type": "code",
   "execution_count": null,
   "metadata": {},
   "outputs": [],
   "source": [
    "plot(x, y2, \"Input Sample\", \"Reconstructed Sample\", \"Dead-zone Quantizer ($\\Delta={}$)\".format(2))\n",
    "plot(x, y3, \"Input Sample\", \"Reconstructed Sample\", \"Dead-zone Quantizer ($\\Delta={}$)\".format(3))"
   ]
  },
  {
   "cell_type": "code",
   "execution_count": null,
   "metadata": {},
   "outputs": [],
   "source": [
    "def q_deq(x, quantization_step):\n",
    "    k = quantizer(x, quantization_step)\n",
    "    y = dequantizer(k, quantization_step)\n",
    "    return k, y"
   ]
  },
  {
   "cell_type": "code",
   "execution_count": null,
   "metadata": {},
   "outputs": [],
   "source": [
    "x = np.arange(start = -8, stop = 9, step = 1)\n",
    "k, y = q_deq(x, quantization_step = 3)\n",
    "print(\"    Original samples =\", x)\n",
    "print(\"Quantization indexes =\", k)\n",
    "print(\" Dequantized samples =\", y)"
   ]
  },
  {
   "cell_type": "markdown",
   "metadata": {},
   "source": [
    "* In InterCom, we loosely control the bit-rate because a strict bit-rate control through the variation of $\\Delta$ is computationally intensive (we must determine the [Rate/Distortion curve](https://en.wikipedia.org/wiki/Rate%E2%80%93distortion_theory) of the current chunk to find $\\Delta$ before to quantize, compress and send it) and it's hard to compute it, in real-time.\n",
    "* For this reason, the current implementation estimates the number of lost chunks per second (in the last second) and use this information to increase or decrease $\\Delta$ for the chunks of the next second."
   ]
  },
  {
   "cell_type": "code",
   "execution_count": null,
   "metadata": {},
   "outputs": [],
   "source": [
    "# Run this cell if you have a mic\n",
    "sampling_rate = 44100\n",
    "duration = 5.0  # seconds\n",
    "x = sd.rec(int(duration * sampling_rate), samplerate=sampling_rate, channels=1, dtype=np.int16)\n",
    "print(\"Speak!\")\n",
    "while sd.wait():\n",
    "    pass\n",
    "print(\"done\")"
   ]
  },
  {
   "cell_type": "code",
   "execution_count": null,
   "metadata": {},
   "outputs": [],
   "source": [
    "# Run this cell if you don't have a mic\n",
    "import soundfile\n",
    "x, sampling_rate = soundfile.read(\"../data/AviadorDro_LaZonaFantasma.oga\")\n",
    "x = x[0:65536*2] * 32768\n",
    "x = x.astype(np.int16)"
   ]
  },
  {
   "cell_type": "code",
   "execution_count": null,
   "metadata": {},
   "outputs": [],
   "source": [
    "sd.play(x)\n",
    "plot(np.linspace(0, len(x)-1, len(x)), x, \"Sample\", \"Amplitude\", \"Original Signal\")"
   ]
  },
  {
   "cell_type": "code",
   "execution_count": null,
   "metadata": {},
   "outputs": [],
   "source": [
    "# Effect of quantization\n",
    "quantization_step = 2048\n",
    "k, y = q_deq(x, quantization_step)\n",
    "sd.play(y)\n",
    "plot(np.linspace(0, len(y)-1, len(y)), y, \"Sample\", \"Amplitude\", \"Quantized Signal ($\\Delta={}$)\".format(quantization_step))"
   ]
  },
  {
   "cell_type": "code",
   "execution_count": null,
   "metadata": {},
   "outputs": [],
   "source": [
    "# RD curve\n",
    "\n",
    "def average_energy(x):\n",
    "    return np.sum(x.astype(np.double)*x.astype(np.double))/len(x)\n",
    "\n",
    "def RMSE(x, y):\n",
    "    error_signal = x - y\n",
    "    return math.sqrt(average_energy(error_signal))\n",
    "\n",
    "def entropy_in_bits_per_symbol(sequence_of_symbols):\n",
    "    value, counts = np.unique(sequence_of_symbols, return_counts = True)\n",
    "    probs = counts / len(sequence_of_symbols)\n",
    "    n_classes = np.count_nonzero(probs)\n",
    "\n",
    "    if n_classes <= 1:\n",
    "        return 0\n",
    "\n",
    "    entropy = 0.\n",
    "    for i in probs:\n",
    "        entropy -= i * math.log(i, 2)\n",
    "\n",
    "    return entropy\n",
    "\n",
    "def RD_curve(x):\n",
    "    points = []\n",
    "    for q_step in range(128, 4096, 128):\n",
    "        k, y = q_deq(x, q_step)\n",
    "        #print(np.unique(k))\n",
    "        rate = entropy_in_bits_per_symbol(k)\n",
    "        distortion = RMSE(x, y)\n",
    "        points.append((rate, distortion))\n",
    "    return points"
   ]
  },
  {
   "cell_type": "code",
   "execution_count": null,
   "metadata": {},
   "outputs": [],
   "source": [
    "RD_points = RD_curve(x)"
   ]
  },
  {
   "cell_type": "code",
   "execution_count": null,
   "metadata": {},
   "outputs": [],
   "source": [
    "plt.title(\"RD Tradeoff\")\n",
    "plt.xlabel(\"R (Estimated Bits per Sample) [Entropy]\")\n",
    "plt.ylabel(\"D (Root Mean Square Error)\")\n",
    "plt.scatter(*zip(*RD_points), s=2, c='b', marker=\"o\")\n",
    "plt.show()"
   ]
  },
  {
   "cell_type": "markdown",
   "metadata": {},
   "source": [
    "### Let's listen to the effect of a bit-rate control algorithm\n",
    "\n",
    "The quantizer is controlled by the following algorithm:\n",
    "\n",
    "1. Every second (by default) run:\n",
    "  \\begin{equation}\n",
    "    \\left\\{\n",
    "    \\begin{array}{ll}\n",
    "      \\Delta = 2\\Delta & \\quad\\text{if}~L>2 \\\\\n",
    "      \\Delta = \\frac{10}{11}\\Delta & \\quad\\text{always}.\n",
    "    \\end{array}\n",
    "    \\right.\n",
    "  \\end{equation}\n",
    " where $L$ is the number of lost chunks in the previus \"bit-rate control period\" of time."
   ]
  },
  {
   "cell_type": "code",
   "execution_count": null,
   "metadata": {},
   "outputs": [],
   "source": [
    "# (only Linux)\n",
    "\n",
    "avg_latency = 10\n",
    "mean_deviation = 10\n",
    "correlation = 50\n",
    "distribution = \"normal\"\n",
    "throughput = 300 # KBPS\n",
    "\n",
    "!sudo tc qdisc add dev lo root handle 1: netem delay {avg_latency}ms {mean_deviation}ms {correlation}% distribution {distribution}\n",
    "!sudo tc qdisc add dev lo parent 1:1 handle 10: tbf rate {throughput}kbit burst 64kbit limit 64kbit\n",
    "\n",
    "!python ../src/BR_control_conservative.py --show_stats -t 20 -f ../data/AviadorDro_LaZonaFantasma.oga\n",
    "\n",
    "!sudo tc qdisc del dev lo parent 1:1 handle 10:\n",
    "!sudo tc qdisc del dev lo root\n",
    "!tc qdisc show dev lo"
   ]
  },
  {
   "cell_type": "markdown",
   "metadata": {},
   "source": [
    "### Some conclusions:\n",
    "\n",
    "1. The transmission should have a smaller number of lost chunks compared to not using a BR-control.\n",
    "2. Probably some extra technique should be applied to have a larger \"useful\" range of the quantization step size."
   ]
  },
  {
   "cell_type": "markdown",
   "metadata": {},
   "source": [
    "## 5. [Removing intra-frame (inter-channel or spatial) redundancy](https://tecnologias-multimedia.github.io/study_guide/transform_coding/#x1-30001.1) through Transform Coding\n",
    "\n",
    "* Transform Coding increases the dynamic range of the coefficients and therefore, the \"useful\" range of the quantization step size.\n",
    "\n",
    "### The MST (Mid/Side Transform)\n",
    "The samples of a (stereo) frame tend to have similar amplitudes. For this reason, we apply [Mid/Side stereo coding](https://en.wikipedia.org/wiki/Joint_encoding#M/S_stereo_coding) (before quantization).\n",
    "\n",
    "* The MST (Mid/Side Transform) analysis transform\n",
    "\\begin{equation}\n",
    "  \\mathbf{w} = \\mathbf{K}\\mathbf{x} = \\begin{bmatrix} 1 & 1 \\\\ 1 & -1 \\end{bmatrix}\\mathbf{x},\n",
    "\\end{equation}\n",
    "that can be also written as\n",
    "\\begin{equation}\n",
    "  \\begin{bmatrix}\n",
    "    \\mathbf{w}_0 \\\\\n",
    "    \\mathbf{w}_1\n",
    "  \\end{bmatrix}\n",
    "  = \n",
    "  \\begin{bmatrix} 1 & 1 \\\\ 1 & -1 \\end{bmatrix}\n",
    "  \\begin{bmatrix}\n",
    "    \\mathbf{x}_0 \\\\\n",
    "    \\mathbf{x}_1\n",
    "  \\end{bmatrix}, \\tag{1}\n",
    "\\end{equation}\n",
    "where $\\mathbf{x}$ is a stereo frame, $\\mathbf{K}$ is the (forward or analysis)\n",
    "transform matrix, and $\\mathbf{w}=\\begin{bmatrix} \\mathbf{w}_0 & \\mathbf{w}_1\\end{bmatrix}^{\\text\n",
    "  T}$ is the corresponding (signal) [decomposition](https://en.wikipedia.org/wiki/Discrete_wavelet_transform#Example_in_image_processing).\n",
    "  \n",
    "* The synthesis transform defined by\n",
    "\\begin{equation}\n",
    "  \\mathbf{x} = \\mathbf{K}^{-1}\\mathbf{w}\n",
    "\\end{equation}\n",
    "can be found from Eq. (1), where we get that\n",
    "\\begin{equation}\n",
    "  \\begin{array}{rcl}\n",
    "  \\mathbf{w}_0 & = & \\mathbf{x}_0 + \\mathbf{x}_1\\\\\n",
    "  \\mathbf{w}_1 & = & \\mathbf{x}_0 - \\mathbf{x}_1.\n",
    "  \\end{array}\n",
    "\\end{equation}\n",
    "By solving $\\mathbf{x}_0$ (adding) and $\\mathbf{x}_1$ (substracting) in\n",
    "these equations, we obtain that\n",
    "\\begin{equation}\n",
    "  \\begin{array}{rcl}\n",
    "  \\mathbf{x}_0 & = & \\frac{1}{2}(\\mathbf{w}_0 + \\mathbf{w}_1)\\\\\n",
    "  \\mathbf{x}_1 & = & \\frac{1}{2}(\\mathbf{w}_0 - \\mathbf{w}_1),\n",
    "  \\end{array}\n",
    "\\end{equation}\n",
    "that in matrix form becomes\n",
    "\\begin{equation}\n",
    "  \\begin{bmatrix}\n",
    "    \\mathbf{x}_0 \\\\\n",
    "    \\mathbf{x}_1\n",
    "  \\end{bmatrix}\n",
    "  = \\frac{1}{2}\n",
    "  \\begin{bmatrix} 1 & 1 \\\\ 1 & -1 \\end{bmatrix}\n",
    "  \\begin{bmatrix}\n",
    "    \\mathbf{w}_0 \\\\\n",
    "    \\mathbf{w}_1\n",
    "  \\end{bmatrix}.\n",
    "\\end{equation}\n",
    "\n",
    "Therefore,\n",
    "\\begin{equation}\n",
    "  \\mathbf{x} = \\mathbf{K}^{-1}\\mathbf{w} = \\frac{1}{2}\\mathbf{K}^{\\text T}\\mathbf{w} = \\frac{1}{2}\\mathbf{K}\\mathbf{w} = \\frac{1}{2}\\begin{bmatrix} 1 & 1 \\\\ 1 & -1 \\end{bmatrix}\\mathbf{w}.\n",
    "\\end{equation}"
   ]
  },
  {
   "cell_type": "code",
   "execution_count": null,
   "metadata": {},
   "outputs": [],
   "source": [
    "def plot(y, xlabel='', ylabel='', title=''):\n",
    "    fig = plt.figure()\n",
    "    ax = fig.add_subplot(111)\n",
    "    ax.set_title(title)\n",
    "    ax.grid()\n",
    "    ax.xaxis.set_label_text(xlabel)\n",
    "    ax.yaxis.set_label_text(ylabel)\n",
    "    x = np.linspace(0, len(y)-1, len(y))\n",
    "    ax.plot(x, y, '.', markersize=1)\n",
    "    plt.show(block=False)"
   ]
  },
  {
   "cell_type": "code",
   "execution_count": null,
   "metadata": {},
   "outputs": [],
   "source": [
    "# Run this cell if you have a mic\n",
    "fs = 44100      # Sampling frequency\n",
    "duration = 5.0  # seconds\n",
    "x = sd.rec(int(duration * fs), samplerate=fs, channels=2, dtype=np.int16)\n",
    "print(\"Say something!\")\n",
    "while sd.wait():\n",
    "    pass\n",
    "print(\"done\")"
   ]
  },
  {
   "cell_type": "code",
   "execution_count": null,
   "metadata": {},
   "outputs": [],
   "source": [
    "# Run this cell if you don't have a mic\n",
    "import soundfile\n",
    "x, sampling_rate = soundfile.read(\"../data/AviadorDro_LaZonaFantasma.oga\")\n",
    "x = x[0:65536*2] * 32768\n",
    "x = x.astype(np.int16)"
   ]
  },
  {
   "cell_type": "code",
   "execution_count": null,
   "metadata": {},
   "outputs": [],
   "source": [
    "# Original\n",
    "plot(x, \"Sample\", \"Amplitude\", \"Audio Signal\")\n",
    "#x = x[65536:]\n",
    "x = x[:65536] # The Dyadic DWT works better when the number of samples is a power of 2\n",
    "plot(x, \"Sample\", \"Amplitude\", \"Audio Signal (zoom)\")\n",
    "sd.play(x)"
   ]
  },
  {
   "cell_type": "code",
   "execution_count": null,
   "metadata": {},
   "outputs": [],
   "source": [
    "def MST_analyze(x):\n",
    "    w = np.empty_like(x, dtype=np.int32)\n",
    "    w[:, 0] = x[:, 0].astype(np.int32) + x[:, 1] # L(ow frequency subband)\n",
    "    w[:, 1] = x[:, 0].astype(np.int32) - x[:, 1] # H(igh frequency subband)\n",
    "    return w\n",
    "\n",
    "def MST_synthesize(w):\n",
    "    x = np.empty_like(w, dtype=np.int16)\n",
    "    x[:, 0] = (w[:, 0] + w[:, 1])/2 # L(ow frequency subband)\n",
    "    x[:, 1] = (w[:, 0] - w[:, 1])/2 # H(igh frequency subband)\n",
    "    return x"
   ]
  },
  {
   "cell_type": "code",
   "execution_count": null,
   "metadata": {},
   "outputs": [],
   "source": [
    "w = MST_analyze(x)"
   ]
  },
  {
   "cell_type": "code",
   "execution_count": null,
   "metadata": {},
   "outputs": [],
   "source": [
    "plot(w[:, 0], \"Sample\", \"Amplitude\", \"Mid Subband\")\n",
    "sd.play(w[:, 0].astype(np.int16))"
   ]
  },
  {
   "cell_type": "code",
   "execution_count": null,
   "metadata": {},
   "outputs": [],
   "source": [
    "plot(w[:, 1], \"Sample\", \"Amplitude\", \"Side Subband\")\n",
    "sd.play(w[:, 1].astype(np.int16))"
   ]
  },
  {
   "cell_type": "code",
   "execution_count": null,
   "metadata": {},
   "outputs": [],
   "source": [
    "# Frequency response\n",
    "K1 = np.array([1.0, 1.0])\n",
    "w1, h1 = signal.freqz(K1, fs=44100)\n",
    "K2 = np.array([1.0, -1.0])\n",
    "w2, h2 = signal.freqz(K2, fs=44100)"
   ]
  },
  {
   "cell_type": "code",
   "execution_count": null,
   "metadata": {},
   "outputs": [],
   "source": [
    "plt.subplot(211)\n",
    "plt.title('Mid/Side analysis filters transfer functions')\n",
    "plt.plot(w1, 20 * np.log10(abs(h1)), 'b')\n",
    "plt.ylabel('Amplitude [dB]')\n",
    "plt.subplot(212)\n",
    "plt.plot(w2, 20 * np.log10(abs(h2)), 'b')\n",
    "plt.xlabel('Frequency (Hz)')\n",
    "plt.ylabel('Amplitude [dB]')\n",
    "plt.show()"
   ]
  },
  {
   "cell_type": "markdown",
   "metadata": {},
   "source": [
    "* With only 2 coefficients, the filtering performance is not very high (we are able to recognize the audio in both subbands) :-/\n",
    "* Notice that both filters have the same average gain."
   ]
  },
  {
   "cell_type": "markdown",
   "metadata": {},
   "source": [
    "### Effect of quantization of the MST subbands"
   ]
  },
  {
   "cell_type": "code",
   "execution_count": null,
   "metadata": {},
   "outputs": [],
   "source": [
    "def quantizer(x, quantization_step):\n",
    "    '''Deadzone quantization.'''\n",
    "    k = (x / quantization_step).astype(np.int32)\n",
    "    return k\n",
    "\n",
    "def q_RD_curve(data):\n",
    "    '''RD curve in the space domain.'''\n",
    "    RD_points = []\n",
    "    for q_step in range(16, 1024, 32):\n",
    "        k, y = q_deq(data, q_step)\n",
    "        rate = entropy_in_bits_per_symbol(k[:, 0]) + entropy_in_bits_per_symbol(k[:, 1])\n",
    "        distortion = RMSE(data, y)\n",
    "        RD_points.append((rate, distortion))\n",
    "    return RD_points\n",
    "\n",
    "def MST_RD_curve(data):\n",
    "    '''RD curve in the MST domain.'''\n",
    "    RD_points = []\n",
    "    for q_step in range(16, 1024, 32):\n",
    "        analyzed_data = MST_analyze(data)\n",
    "        k, y = q_deq(analyzed_data, q_step)\n",
    "        rate = entropy_in_bits_per_symbol(k[:, 0]) + entropy_in_bits_per_symbol(k[:, 1])\n",
    "        reconstructed_data = MST_synthesize(y)\n",
    "        distortion = RMSE(data, reconstructed_data)\n",
    "        RD_points.append((rate, distortion))\n",
    "    return RD_points"
   ]
  },
  {
   "cell_type": "code",
   "execution_count": null,
   "metadata": {},
   "outputs": [],
   "source": [
    "q_RD_points = q_RD_curve(x)\n",
    "MST_RD_points = MST_RD_curve(x)"
   ]
  },
  {
   "cell_type": "code",
   "execution_count": null,
   "metadata": {},
   "outputs": [],
   "source": [
    "plt.title(\"RD Tradeoff\")\n",
    "plt.xlabel(\"Estimated Bits per Sample [Entropy]\")\n",
    "plt.ylabel(\"RMSE\")\n",
    "plt.plot(*zip(*MST_RD_points), c='b', marker=\".\", label='Quantizing MST subbands')\n",
    "plt.plot(*zip(*q_RD_points), c='r', marker=\".\", label='Quantizing original audio')\n",
    "plt.legend(loc='upper right')\n",
    "plt.show()"
   ]
  },
  {
   "cell_type": "markdown",
   "metadata": {},
   "source": [
    "### Conclusions\n",
    "\n",
    "1. As it can be seen, the distortion is an exponential function (with a negative exponent). This basically implies that when the bit-rate decreases ($\\Delta$ increases), the distortion also increases exponentially. Therefore, when we have two (or more) signals that are quantized, it is more beneficial from the a RD point of view, to increase $\\Delta$ by $x/2$ in both subbands, than $x$ in only one of them.\n",
    "\n",
    "2. Notice that the quantization pattern $\\Delta_0==\\Delta_1$ is only a heuristic that works fine in most of situations, and that generates the same amount of distortion in the amplitude of the audio signal and the stereo information. To determine the optimal value of the QSSs, we should always solve for the option that is the most beneficial, based on the real RD curve.\n",
    "\n",
    "3. Since both subbands ($\\mathbf{w}_0$ and $\\mathbf{w}_1$) have the same gain, and in general, the quantization error is independent of the signal (for low enough $\\Delta$ values), in theory the quantization pattern $\\Delta_0==\\Delta_1$ should yield an acceptable RD performance, because we are generating the same amount of quantization error in both subbands, for a given bit-rate.\n",
    "\n",
    "4. You can get more insights about the optimal quantization in the MST domain in his [notebook](https://github.com/Tecnologias-multimedia/Tecnologias-multimedia.github.io/blob/master/contents/transform_coding/stereo_transforms_RD.ipynb)."
   ]
  },
  {
   "cell_type": "markdown",
   "metadata": {},
   "source": [
    "### Result of aplying the MST to InterCom"
   ]
  },
  {
   "cell_type": "code",
   "execution_count": null,
   "metadata": {},
   "outputs": [],
   "source": [
    "# Real machine (no mic is required)\n",
    "!python ../src/stereo_MST_coding_16.py --show_stats -t 10 -f ../data/AviadorDro_LaZonaFantasma.oga"
   ]
  },
  {
   "cell_type": "code",
   "execution_count": null,
   "metadata": {},
   "outputs": [],
   "source": [
    "# Virtual machine\n",
    "!python ../src/stereo_MST_coding_16.py --show_stats -s 8000 -t 10 -f ../data/AviadorDro_LaZonaFantasma_8000Hz.oga --frames_per_chunk 256"
   ]
  },
  {
   "cell_type": "markdown",
   "metadata": {},
   "source": [
    "## 6. [Removing intra-channel (inter-frame or temporal) redundancy](https://tecnologias-multimedia.github.io/contents/transform_coding/#x1-80001.2)\n",
    "\n",
    "* The samples of each channel exhibit temporal redundancy (localy have similar values). Therefore, we can use a [dyadic](https://en.wikipedia.org/wiki/Discrete_wavelet_transform) [Discrete Wavelet Transform (DWT)](https://tecnologias-multimedia.github.io/contents/transform_coding//#x1-80001.2) to exploit it (before quantization).\n",
    "* See [here](https://cseweb.ucsd.edu/classes/fa17/cse166-a/lec13.pdf) some Wavelet functions."
   ]
  },
  {
   "cell_type": "markdown",
   "metadata": {},
   "source": [
    "### [Implementation of the DWT with Perfect Reconstruction Filter Banks](https://tecnologias-multimedia.github.io/study_guide/transform_coding/#x1-80001.2)\n",
    "\n",
    "* The DWT can be implemented as a cascade of 2-channels PRFBs:\n",
    "$~$\n",
    "![DWT](https://tecnologias-multimedia.github.io/contents/transform_coding/graphics/cascade.svg)\n",
    "$$~$$\n",
    "where $\\mathbf{l}$ stands for low-frequency subband, and $\\mathbf{h}$ for high-frequency subband. $\\downarrow 2$ represents a decimation where one of each two samples is ignored, and $\\uparrow 2$ the insertion of a 0 where the decimator discarded a sample.\n",
    "\n",
    "* Depending on how\n",
    "$\\phi$ (the **analysis scaling function** (low-pass frequency analysis filter)),\n",
    "$\\psi$ (the **analysis wavelet function** (high-pass frequency analysis filter),\n",
    "$\\tilde\\phi$ (the **synthesis scaling function** (low-pass frequency synthesis filter),\n",
    "and $\\tilde\\psi$ the **synthesis wavelet function** (high-pass frequency synthesis filter))\n",
    "are defined, a different DWT is computed."
   ]
  },
  {
   "cell_type": "markdown",
   "metadata": {},
   "source": [
    "### [Implementation of the DWT with Lifting](https://tecnologias-multimedia.github.io/study_guide/transform_coding/#x1-80001.2)\n",
    "\n",
    "Allows to avoid the use of the decimators, dividing by 2 the number of operations.\n",
    "\n",
    "#####  Example with linear interpolation:\n",
    "\n",
    "\\begin{equation}\n",
    "  {\\mathbf h}^l_i = {\\mathbf l}^{l-1}_{2i+1} - \\frac{1}{2}({\\mathbf l}^{l-1}_{2i} + {\\mathbf l}^{l-1}_{2i+2})\n",
    "\\end{equation}\n",
    "\\begin{equation}\n",
    "  {\\mathbf l}^l_i = {\\mathbf l}^{l-1}_{2i} + \\frac{1}{4}({\\mathbf h}^l_{i-1} + {\\mathbf h}^l_i),\n",
    "\\end{equation}"
   ]
  },
  {
   "cell_type": "markdown",
   "metadata": {},
   "source": [
    "### Spectral resolution provided by the dyadic DWT\n",
    "\n",
    "* The DWT generates the dyadic decomposition (for $2^l$ samples, where $l$ is the number of levels of the DWT):\n",
    " \\begin{equation*}\n",
    "    | \\mathbf{l}^s_0 | \\mathbf{h}^s_0 | \\mathbf{h}^{s-1}_0 \\mathbf{h}^{s-1}_1 | \\mathbf{h}^{s-2}_0 \\mathbf{h}^{s-2}_1 \\mathbf{h}^{s-2}_2 \\mathbf{h}^{s-2}_3 | \\cdots | \\mathbf{h}^1_0 \\mathbf{h}^1_1 \\cdots \\mathbf{h}^1_{2^{n-1}-1} |,\n",
    "  \\end{equation*}\n",
    "where $s$ represents the subband index ($s$), and each subband contains a set of\n",
    "coefficients (distinguished by subscript).\n",
    "\n",
    "* It holds that:\n",
    "\\begin{equation}\n",
    "  W({\\mathbf h}^s) = \\frac{1}{2}W({\\mathbf h}^{s-1}),\n",
    "\\end{equation}\n",
    "and that:\n",
    "\\begin{equation}\n",
    "  W({\\mathbf l}^{N_{\\text{levels}}}) = W({\\mathbf h}^{N_{\\text{levels}}}),\n",
    "\\end{equation}\n",
    "being $W(\\cdot)$ the bandwidth of the corresponding\n",
    "subband $s$."
   ]
  },
  {
   "cell_type": "markdown",
   "metadata": {},
   "source": [
    "### A real example:"
   ]
  },
  {
   "cell_type": "code",
   "execution_count": 4,
   "metadata": {},
   "outputs": [],
   "source": [
    "def average_complex_energy(x):\n",
    "    return np.sum(x.real.astype(np.double)*x.real.astype(np.double) +\n",
    "                  x.imag.astype(np.double)*x.imag.astype(np.double))/len(x)"
   ]
  },
  {
   "cell_type": "code",
   "execution_count": 7,
   "metadata": {},
   "outputs": [
    {
     "data": {
      "text/latex": [
       "$\\displaystyle \\text{Average energy of}~\\mathbf{h}^1 = 1.9960937500000002$"
      ],
      "text/plain": [
       "<IPython.core.display.Math object>"
      ]
     },
     "metadata": {},
     "output_type": "display_data"
    },
    {
     "data": {
      "text/latex": [
       "$\\displaystyle \\text{Average energy of}~\\mathbf{h}^2 = 4.000000000000001$"
      ],
      "text/plain": [
       "<IPython.core.display.Math object>"
      ]
     },
     "metadata": {},
     "output_type": "display_data"
    },
    {
     "data": {
      "text/latex": [
       "$\\displaystyle \\text{Average energy of}~\\mathbf{l}^2 = 4.015625000000001$"
      ],
      "text/plain": [
       "<IPython.core.display.Math object>"
      ]
     },
     "metadata": {},
     "output_type": "display_data"
    },
    {
     "data": {
      "image/png": "[encoded data removed]",
      "text/plain": [
       "<Figure size 640x480 with 1 Axes>"
      ]
     },
     "metadata": {},
     "output_type": "display_data"
    }
   ],
   "source": [
    "import pywt # pip install pywavelets\n",
    "from IPython.display import Math\n",
    "\n",
    "%matplotlib inline\n",
    "\n",
    "#filters_name = \"haar\"\n",
    "filters_name = \"db5\"\n",
    "#filters_name = \"db7\"\n",
    "#filters_name = \"db11\"\n",
    "#filters_name = \"db20\"\n",
    "#filters_name = \"bior3.5\"\n",
    "\n",
    "wavelet = pywt.Wavelet(filters_name)\n",
    "\n",
    "N_levels = 2\n",
    "\n",
    "for l in range(N_levels):\n",
    "    filters = wavelet.wavefun(level = (l+1))[:-1]\n",
    "    w0, h0 = signal.freqz(filters[0], fs=44100)\n",
    "    w1, h1 = signal.freqz(filters[1], fs=44100)\n",
    "    plt.plot(w1, abs(h1), label=\"$\\\\mathbf{h}$\" + f\"$^{l+1}$\")\n",
    "    display(Math(\"\\\\text{Average energy of}~\" + \"\\mathbf{h}\" + f\"^{l+1}\" + f\" = {average_complex_energy(h1)}\"))\n",
    "plt.plot(w0, abs(h0), label=\"$\\\\mathbf{l}$\" + f\"$^{l+1}$\")\n",
    "display(Math(\"\\\\text{Average energy of}~\" + \"\\mathbf{l}\" + f\"^{l+1}\" + f\" = {average_complex_energy(h0)}\"))\n",
    "plt.legend(loc=\"best\")\n",
    "plt.xlabel(\"Frequency (Hz)\")\n",
    "plt.ylabel(\"Gain\")\n",
    "plt.show()"
   ]
  },
  {
   "cell_type": "markdown",
   "metadata": {},
   "source": [
    "### Quantization in the (Dyadic) DWT domain\n",
    "\n",
    "* As it can be seen, if the DWT is orthogonal, then\n",
    "\\begin{equation}\n",
    "  |\\mathbf{h}^s|^2 = \\frac{1}{2}|\\mathbf{h}^{s-1}|^2,\n",
    "\\end{equation}\n",
    "and\n",
    "\\begin{equation}\n",
    "  |\\mathbf{l}^s|^2 = |\\mathbf{h}^s|^2,\n",
    "\\end{equation}\n",
    "where $|\\cdot|^2$ is the L$^2$ energy of the corresponding subband. Therefore\n",
    "(considering also the bandwidth of each subband), it holds that all the subbands\n",
    "*band-pass-filter* the same amount of *information*.\n",
    "\n",
    "* This is the same situation as in the MST (but now with more subbands). For this reason,\n",
    "all the DWT coefficients are quantized using the same $\\Delta$. You can get extra\n",
    "information in this [notebook](https://github.com/Tecnologias-multimedia/Tecnologias-multimedia.github.io/blob/master/contents/transform_coding/DWT_RD.ipynb)."
   ]
  },
  {
   "cell_type": "markdown",
   "metadata": {},
   "source": [
    "### (Dyadic) DWT in action (only Linux)\n",
    "Go to the shell and run (placed in the `test` folder):\n",
    "```\n",
    "python sounddevice/plot_input_stereo.py &\n",
    "python transforms/rfft_hamming.py &\n",
    "python transforms/dwt5.py &\n",
    "python sounddevice/play_sine.py 440\n",
    "```"
   ]
  },
  {
   "cell_type": "markdown",
   "metadata": {},
   "source": [
    "### DWT RD performance"
   ]
  },
  {
   "cell_type": "code",
   "execution_count": null,
   "metadata": {},
   "outputs": [],
   "source": [
    "def quantizer(x, quantization_step):\n",
    "    k = (x / quantization_step).astype(np.int32)\n",
    "    return k\n",
    "\n",
    "def dequantizer(k, quantization_step):\n",
    "    y = quantization_step * k\n",
    "    return y\n",
    "\n",
    "def DWT_analyze(x, levels):\n",
    "    coefs = np.empty(x.shape, dtype=np.int32)\n",
    "    decomposition_0 = pywt.wavedec(x[:, 0], wavelet=wavelet, level=levels, mode=\"per\")\n",
    "    decomposition_1 = pywt.wavedec(x[:, 1], wavelet=wavelet, level=levels, mode=\"per\")\n",
    "    coefs_0, slices = pywt.coeffs_to_array(decomposition_0)\n",
    "    coefs_1, slices = pywt.coeffs_to_array(decomposition_1)\n",
    "    coefs[:, 0] = np.rint(coefs_0).astype(np.int32)\n",
    "    coefs[:, 1] = np.rint(coefs_1).astype(np.int32)\n",
    "    return coefs, slices\n",
    "\n",
    "def DWT_synthesize(coefs, slices):\n",
    "    samples = np.empty(coefs.shape, dtype=np.int32)\n",
    "    decomposition_0 = pywt.array_to_coeffs(coefs[:, 0], slices, output_format=\"wavedec\")\n",
    "    decomposition_1 = pywt.array_to_coeffs(coefs[:, 1], slices, output_format=\"wavedec\")\n",
    "    samples[:, 0] = np.rint(pywt.waverec(decomposition_0, wavelet=wavelet, mode=\"per\")).astype(np.int32)\n",
    "    samples[:, 1] = np.rint(pywt.waverec(decomposition_1, wavelet=wavelet, mode=\"per\")).astype(np.int32)\n",
    "    return samples\n",
    "\n",
    "def DWT_RD_curve(data, levels):\n",
    "    RD_points = []\n",
    "    for q_step in range(16, 1024, 32):\n",
    "        MST_coefs = MST_analyze(data)\n",
    "        DWT_coefs, slices = DWT_analyze(MST_coefs, levels)\n",
    "        k, y = q_deq(DWT_coefs, q_step)\n",
    "        rate = entropy_in_bits_per_symbol(k[:, 0]) + entropy_in_bits_per_symbol(k[:, 1])\n",
    "        MST_coefs = DWT_synthesize(y, slices)\n",
    "        reconstructed_data = MST_synthesize(MST_coefs)\n",
    "        distortion = RMSE(data, reconstructed_data)\n",
    "        RD_points.append((rate, distortion))\n",
    "    return RD_points"
   ]
  },
  {
   "cell_type": "code",
   "execution_count": null,
   "metadata": {},
   "outputs": [],
   "source": [
    "x = x[:65536]\n",
    "plot(x, \"Sample\", \"Amplitude\", \"\")\n",
    "sd.play(x.astype(np.int16))"
   ]
  },
  {
   "cell_type": "code",
   "execution_count": null,
   "metadata": {
    "scrolled": true
   },
   "outputs": [],
   "source": [
    "q_RD_points = q_RD_curve(x)\n",
    "MST_RD_points = MST_RD_curve(x)\n",
    "DWT_RD_points = DWT_RD_curve(x, levels = N_levels)"
   ]
  },
  {
   "cell_type": "code",
   "execution_count": null,
   "metadata": {},
   "outputs": [],
   "source": [
    "plt.title(\"RD Tradeoff\")\n",
    "plt.xlabel(\"Estimated Bits per Sample\")\n",
    "plt.ylabel(\"RMSE\")\n",
    "plt.plot(*zip(*q_RD_points), c='r', marker=\".\", label='Quantization')\n",
    "plt.plot(*zip(*MST_RD_points), c='b', marker=\".\", label='Quantization after MST')\n",
    "plt.plot(*zip(*DWT_RD_points), c='g', marker=\".\", label=f'Quantization after MST+DWT(levels={N_levels})')\n",
    "plt.legend(loc='upper right')\n",
    "plt.show()"
   ]
  },
  {
   "cell_type": "markdown",
   "metadata": {},
   "source": [
    "### [Overlapped processing]()\n",
    "\n",
    "#### The problem\n",
    "![3 chunks](https://tecnologias-multimedia.github.io/contents/transform_coding/3_chunks.svg)\n",
    "![original reconstruction](https://tecnologias-multimedia.github.io/contents/transform_coding/without.svg)\n",
    "![extended](https://tecnologias-multimedia.github.io/contents/transform_coding/extended.svg)\n",
    "![improved reconstruction](https://tecnologias-multimedia.github.io/contents/transform_coding/reconstructed.svg)\n",
    "\n",
    "#### A solution\n",
    "![Overlapping betweem chunks](https://tecnologias-multimedia.github.io/contents/transform_coding/graphics/overlapping.svg)"
   ]
  },
  {
   "cell_type": "markdown",
   "metadata": {},
   "source": [
    "### Result of applying the DWT to InterCom"
   ]
  },
  {
   "cell_type": "code",
   "execution_count": null,
   "metadata": {},
   "outputs": [],
   "source": [
    "!python ../src/temporal_overlapped_DWT_coding.py --show_stats -t 10 -f ../data/AviadorDro_LaZonaFantasma.oga"
   ]
  },
  {
   "cell_type": "markdown",
   "metadata": {},
   "source": [
    "## 7. [Perceptual]((https://en.wikipedia.org/wiki/Psychoacoustics)) Coding"
   ]
  },
  {
   "cell_type": "markdown",
   "metadata": {},
   "source": [
    "### Frequency resolution provided by the (Dyadic) DWT vs the [Threshold of (Human) Hearing (ToH)](https://tecnologias-multimedia.github.io/study_guide/threshold_of_hearing/)"
   ]
  },
  {
   "cell_type": "code",
   "execution_count": 8,
   "metadata": {},
   "outputs": [
    {
     "data": {
      "image/png": "[encoded data removed]",
      "text/plain": [
       "<Figure size 640x480 with 1 Axes>"
      ]
     },
     "metadata": {},
     "output_type": "display_data"
    }
   ],
   "source": [
    "import matplotlib.pyplot as plt\n",
    "import numpy as np\n",
    "import pywt\n",
    "from scipy import signal\n",
    "\n",
    "x = np.linspace(10,22050,22050)\n",
    "y = 3.64*(x/1000)**(-0.8) - 6.5*np.exp((-0.6)*(x/1000-3.3)**2) + 1E-3*(x/1000)**4\n",
    "plt.xscale(\"log\")\n",
    "plt.yscale(\"linear\")\n",
    "plt.title(\"ToH / DWT Frequency Decomposition\")\n",
    "plt.xlabel(\"Frequency (Hertz)\")\n",
    "plt.ylabel(\"Sound Preasure Level [dB]\")\n",
    "plt.plot(x, y, c='r', label=\"ToH\")\n",
    "\n",
    "wavelet = pywt.Wavelet(\"db5\")\n",
    "\n",
    "N_levels = 6\n",
    "\n",
    "for l in range(N_levels):\n",
    "    filters = wavelet.wavefun(level = (l+1))[:-1]\n",
    "    w0, h0 = signal.freqz(filters[0], fs=44100)\n",
    "    w1, h1 = signal.freqz(filters[1], fs=44100)\n",
    "    plt.plot(w1, 100*abs(h1)/2**l, label=\"$\\\\mathbf{h}$\" + f\"$^{l+1}$\", linestyle=\"dotted\")\n",
    "plt.plot(w0, 100*abs(h0)/2**(N_levels-1), label=\"$\\\\mathbf{l}$\" + f\"$^{l+1}$\", linestyle=\"dotted\")\n",
    "\n",
    "plt.legend(loc='best')\n",
    "\n",
    "plt.show()"
   ]
  },
  {
   "cell_type": "markdown",
   "metadata": {},
   "source": [
    "* The QSSs are adapted to the ToH in each DWT subband."
   ]
  },
  {
   "cell_type": "markdown",
   "metadata": {},
   "source": [
    "### Result of applying the ToH to InterCom"
   ]
  },
  {
   "cell_type": "code",
   "execution_count": 2,
   "metadata": {},
   "outputs": [
    {
     "name": "stdout",
     "output_type": "stream",
     "text": [
      "pygame 2.6.0 (SDL 2.28.4, Python 3.11.9)\n",
      "Hello from the pygame community. https://www.pygame.org/contribute.html\n",
      "\n",
      "InterCom parameters:\n",
      "\n",
      "Namespace(input_device=None, output_device=None, list_devices=False, frames_per_second=44100, frames_per_chunk=1024, listening_port=4444, destination_address='localhost', destination_port=4444, filename='../data/AviadorDro_LaZonaFantasma.oga', reading_time=10, number_of_channels=2, show_stats=True, show_samples=False, show_spectrum=False, buffering_time=150, minimal_quantization_step_size=512, rate_control_period=1, wavelet_name='db5', levels='3')\n",
      "\n",
      "Using device:\n",
      "\n",
      "   0 Asignador de sonido Microsoft - Input, MME (2 in, 0 out)\n",
      ">  1 Varios micrófonos (Intel® Smart, MME (4 in, 0 out)\n",
      "   2 Asignador de sonido Microsoft - Output, MME (0 in, 2 out)\n",
      "<  3 Altavoces (Realtek(R) Audio), MME (0 in, 2 out)\n",
      "   4 Controlador primario de captura de sonido, Windows DirectSound (2 in, 0 out)\n",
      "   5 Varios micrófonos (Intel® Smart Sound Technology for Digital Microphones), Windows DirectSound (4 in, 0 out)\n",
      "   6 Controlador primario de sonido, Windows DirectSound (0 in, 8 out)\n",
      "   7 Altavoces (Realtek(R) Audio), Windows DirectSound (0 in, 2 out)\n",
      "   8 Altavoces (Realtek(R) Audio), Windows WASAPI (0 in, 8 out)\n",
      "   9 Varios micrófonos (Intel® Smart Sound Technology for Digital Microphones), Windows WASAPI (2 in, 0 out)\n",
      "  10 Mezcla estéreo (Realtek HD Audio Stereo input), Windows WDM-KS (2 in, 0 out)\n",
      "  11 Micrófono (Realtek HD Audio Mic input), Windows WDM-KS (2 in, 0 out)\n",
      "  12 Headphones 1 (Realtek HD Audio 2nd output with SST), Windows WDM-KS (0 in, 2 out)\n",
      "  13 Headphones 2 (Realtek HD Audio 2nd output with SST), Windows WDM-KS (0 in, 2 out)\n",
      "  14 Altavoz de PC (Realtek HD Audio 2nd output with SST), Windows WDM-KS (2 in, 0 out)\n",
      "  15 Speakers 1 (Realtek HD Audio output with SST), Windows WDM-KS (0 in, 2 out)\n",
      "  16 Speakers 2 (Realtek HD Audio output with SST), Windows WDM-KS (0 in, 2 out)\n",
      "  17 Altavoz de PC (Realtek HD Audio output with SST), Windows WDM-KS (2 in, 0 out)\n",
      "  18 Varios micrófonos 1 (), Windows WDM-KS (2 in, 0 out)\n",
      "  19 Varios micrófonos 2 (), Windows WDM-KS (2 in, 0 out)\n",
      "  20 Varios micrófonos 3 (), Windows WDM-KS (4 in, 0 out)\n",
      "\n",
      "Use CTRL+C to quit\n",
      "         sent   recv.    sent    recv.   Global          input audio      input audio           output                  10^4 *               \n",
      "cycle  mesgs.  mesgs.    KBPS    KBPS %CPU %CPU   standard deviation          entropy      bits/sample    Q        RMSE/sample        SNR[dB]\n",
      "=============================================================================================================================================\n",
      "first_received_chunk_number = 1\n",
      "    1      42      42      69      69    4    0 ['  3163', '  3200'] ['11.8', '11.8'] [' 1.2', ' 1.0']  512 ['  584', '  651'] [' 13', ' 13']\n",
      "\u001b[7mAvgs:      42      42      69      69    4    0 ['  3163', '  3200'] ['11.8', '11.8'] [' 1.2', ' 1.0']      ['  584', '  651'] [' 13', ' 13']\u001b[m\n",
      "=============================================================================================================================================\n",
      "cycle  mesgs.  mesgs.    KBPS    KBPS %CPU %CPU   standard deviation          entropy      bits/sample    Q        RMSE/sample        SNR[dB]\n",
      "         sent   recv.    sent    recv.   Global          input audio      input audio           output                  10^4 *               \n",
      "\u001b[5A\n",
      "    2      44      44     158     158    7    1 ['  3934', '  3992'] ['13.4', '13.6'] [' 2.1', ' 1.6']  512 [' 1761', ' 1935'] [' 41', ' 41']\n",
      "\u001b[7mAvgs:      43      43     113     113    5    0 ['  3549', '  3596'] ['12.6', '12.7'] [' 1.7', ' 1.3']      [' 1172', ' 1293'] [' 27', ' 27']\u001b[m\n",
      "=============================================================================================================================================\n",
      "cycle  mesgs.  mesgs.    KBPS    KBPS %CPU %CPU   standard deviation          entropy      bits/sample    Q        RMSE/sample        SNR[dB]\n",
      "         sent   recv.    sent    recv.   Global          input audio      input audio           output                  10^4 *               \n",
      "\u001b[5A\n",
      "    3      44      44     144     144    5    1 ['  3835', '  3760'] ['13.5', '13.5'] [' 1.9', ' 1.4']  512 [' 1662', ' 1841'] [' 42', ' 41']\n",
      "\u001b[7mAvgs:      43      43     123     123    5    1 ['  3644', '  3651'] ['12.9', '13.0'] [' 1.8', ' 1.3']      [' 1336', ' 1476'] [' 32', ' 32']\u001b[m\n",
      "=============================================================================================================================================\n",
      "cycle  mesgs.  mesgs.    KBPS    KBPS %CPU %CPU   standard deviation          entropy      bits/sample    Q        RMSE/sample        SNR[dB]\n",
      "         sent   recv.    sent    recv.   Global          input audio      input audio           output                  10^4 *               \n",
      "\u001b[5A\n",
      "    4      45      45     158     158    5    1 ['  3852', '  4045'] ['13.5', '13.6'] [' 2.2', ' 1.5']  512 [' 1668', ' 1862'] [' 41', ' 42']\n",
      "\u001b[7mAvgs:      43      43     132     132    5    1 ['  3696', '  3749'] ['13.1', '13.1'] [' 1.9', ' 1.4']      [' 1419', ' 1572'] [' 34', ' 34']\u001b[m\n",
      "=============================================================================================================================================\n",
      "cycle  mesgs.  mesgs.    KBPS    KBPS %CPU %CPU   standard deviation          entropy      bits/sample    Q        RMSE/sample        SNR[dB]\n",
      "         sent   recv.    sent    recv.   Global          input audio      input audio           output                  10^4 *               \n",
      "\u001b[5A\n",
      "    5      46      46     153     153    7    2 ['  3809', '  3917'] ['13.5', '13.5'] [' 2.1', ' 1.5']  512 [' 1774', ' 1862'] [' 40', ' 41']\n",
      "\u001b[7mAvgs:      44      44     136     136    6    1 ['  3719', '  3783'] ['13.1', '13.2'] [' 1.9', ' 1.4']      [' 1490', ' 1630'] [' 36', ' 36']\u001b[m\n",
      "=============================================================================================================================================-\n",
      "cycle  mesgs.  mesgs.    KBPS    KBPS %CPU %CPU   standard deviation          entropy      bits/sample    Q        RMSE/sample        SNR[dB]\n",
      "         sent   recv.    sent    recv.   Global          input audio      input audio           output                  10^4 *               \n",
      "\u001b[5A\n",
      "\b    6      44      44     138     138    4    2 ['  4029', '  4062'] ['13.5', '13.6'] [' 1.9', ' 1.3']  512 [' 1677', ' 1775'] [' 42', ' 42']\n",
      "\u001b[7mAvgs:      44      44     136     136    5    1 ['  3771', '  3829'] ['13.2', '13.3'] [' 1.9', ' 1.4']      [' 1521', ' 1654'] [' 37', ' 37']\u001b[m\n",
      "=============================================================================================================================================\n",
      "cycle  mesgs.  mesgs.    KBPS    KBPS %CPU %CPU   standard deviation          entropy      bits/sample    Q        RMSE/sample        SNR[dB]\n",
      "         sent   recv.    sent    recv.   Global          input audio      input audio           output                  10^4 *               \n",
      "\u001b[5A\n",
      "    7      46      46     160     160   13    1 ['  3596', '  3694'] ['13.4', '13.5'] [' 2.2', ' 1.6']  512 [' 1781', ' 1861'] [' 39', ' 40']\n",
      "\u001b[7mAvgs:      44      44     140     140    7    1 ['  3746', '  3810'] ['13.2', '13.3'] [' 1.9', ' 1.4']      [' 1558', ' 1684'] [' 37', ' 37']\u001b[m\n",
      "=============================================================================================================================================\n",
      "cycle  mesgs.  mesgs.    KBPS    KBPS %CPU %CPU   standard deviation          entropy      bits/sample    Q        RMSE/sample        SNR[dB]\n",
      "         sent   recv.    sent    recv.   Global          input audio      input audio           output                  10^4 *               \n",
      "\u001b[5A\n",
      "    8      44      44     155     155    4    1 ['  3730', '  3920'] ['13.5', '13.6'] [' 2.1', ' 1.5']  512 [' 1619', ' 1863'] [' 41', ' 41']\n",
      "\u001b[7mAvgs:      44      44     141     141    6    1 ['  3744', '  3824'] ['13.3', '13.3'] [' 2.0', ' 1.4']      [' 1566', ' 1706'] [' 37', ' 38']\u001b[m\n",
      "=============================================================================================================================================\n",
      "cycle  mesgs.  mesgs.    KBPS    KBPS %CPU %CPU   standard deviation          entropy      bits/sample    Q        RMSE/sample        SNR[dB]\n",
      "         sent   recv.    sent    recv.   Global          input audio      input audio           output                  10^4 *               \n",
      "\u001b[5A\n",
      "    9      46      46     154     154    2    1 ['  4053', '  4102'] ['13.5', '13.6'] [' 2.1', ' 1.5']  512 [' 1643', ' 1777'] [' 41', ' 42']\n",
      "\u001b[7mAvgs:      44      44     143     143    6    1 ['  3778', '  3855'] ['13.3', '13.4'] [' 2.0', ' 1.4']      [' 1574', ' 1714'] [' 38', ' 38']\u001b[m\n",
      "=============================================================================================================================================\n",
      "cycle  mesgs.  mesgs.    KBPS    KBPS %CPU %CPU   standard deviation          entropy      bits/sample    Q        RMSE/sample        SNR[dB]\n",
      "         sent   recv.    sent    recv.   Global          input audio      input audio           output                  10^4 *               \n",
      "\u001b[5A\n",
      "   10      44      44     151     151    5    1 ['  3978', '  3983'] ['13.6', '13.6'] [' 2.0', ' 1.5']  512 [' 1795', ' 1921'] [' 41', ' 41']\n",
      "\u001b[7mAvgs:      44      44     144     144    6    1 ['  3798', '  3867'] ['13.3', '13.4'] [' 2.0', ' 1.4']      [' 1597', ' 1735'] [' 38', ' 39']\u001b[m\n",
      "=============================================================================================================================================\n",
      "cycle  mesgs.  mesgs.    KBPS    KBPS %CPU %CPU   standard deviation          entropy      bits/sample    Q        RMSE/sample        SNR[dB]\n",
      "         sent   recv.    sent    recv.   Global          input audio      input audio           output                  10^4 *               \n",
      "\u001b[5A\n",
      "\n",
      "\n",
      "\n",
      "\n",
      "\n",
      "CPU usage average = 6.281870440476186 %\n",
      "Payload sent average = 144.00000000000003 kilo bits per second\n",
      "Payload received average = 144.00000000000003 kilo bits per second\n",
      "Average RMSE (Root Mean Square Error) per sample = [0.15965205 0.17347962]\n",
      "Average SNR (Signal Noise Ratio) in decibels = [38.15154914 38.56201758]\n"
     ]
    },
    {
     "name": "stderr",
     "output_type": "stream",
     "text": [
      "(WARNING) minimal: Unable to import argcomplete (optional)\n",
      "(WARNING) buffer: Unable to import argcomplete (optional)\n",
      "(WARNING) echo_cancellation: Unable to import argcomplete (optional)\n",
      "(WARNING) DEFLATE_raw: Unable to import argcomplete (optional)\n",
      "(WARNING) DEFLATE_byteplanes3: Unable to import argcomplete (optional)\n",
      "(WARNING) BR_control_no: Unable to import argcomplete (optional)\n",
      "(WARNING) BR_control_conservative: Unable to import argcomplete (optional)\n",
      "(WARNING) BR_control_add_lost: Unable to import argcomplete (optional)\n",
      "(WARNING) stereo_MST_coding_16: Unable to import argcomplete (optional)\n",
      "(WARNING) stereo_MST_coding_32: Unable to import argcomplete (optional)\n",
      "(WARNING) temporal_no_overlapped_DWT_coding_16: Unable to import argcomplete (optional)\n",
      "(WARNING) temporal_overlapped_DWT_coding: Unable to import argcomplete (optional)\n",
      "(WARNING) basic_ToH: Unable to import argcomplete (optional)\n",
      "(WARNING) basic_ToH: argcomplete not working :-/\n",
      "(INFO) minimal: A minimal InterCom (no compression, no quantization, no transform, ... only provides a bidirectional (full-duplex) transmission of raw (playable) chunks. \n",
      "(INFO) minimal: chunk_time = 0.023219954648526078 seconds\n",
      "(INFO) minimal: Using \"../data/AviadorDro_LaZonaFantasma.oga\" as input\n",
      "(INFO) minimal: seconds_per_cycle = 1\n",
      "(INFO) minimal: chunks_per_cycle = 43.06640625\n",
      "(INFO) minimal: frames_per_cycle = 44100\n",
      "(INFO) buffer: Over minimal, implements a random access buffer structure for hiding the jitter.\n",
      "(INFO) buffer: buffering_time = 150 miliseconds\n",
      "(INFO) buffer: chunks_to_buffer = 7\n",
      "(INFO) buffer: Using \"../data/AviadorDro_LaZonaFantasma.oga\" as input\n",
      "(INFO) DEFLATE_raw: Compress each raw chunk using DEFLATE.\n",
      "(INFO) DEFLATE_byteplanes3: Compress the least significant byte planes of the chunks using DEFLATE. The channels are consecutive (serialized). 3 code-streams (one per byte-plane) are generated.\n",
      "(INFO) BR_control_no: No bit-rate control using quantization. In this module, no control\n",
      "has been implemented. Both channels are quantized using the same\n",
      "constant step size.\n",
      "(INFO) BR_control_no: rate_control_period = 1 seconds\n",
      "(INFO) BR_control_no: (minimum) quantization_step_size = 512\n",
      "(INFO) BR_control_add_lost: Bit-rate control using quantization. Both channels are quantized\n",
      "using the same constant step size. To control the quantization step\n",
      "size, the number of lost chunks is added to it. Otherwise, the\n",
      "quantization step is decremented by 1 each second (by default).\n",
      "\n",
      "\n",
      "(INFO) BR_control_conservative: Bit-rate control using quantization. Both channels are quantized\n",
      "using the same constant step. The quantization step is multipled by 2\n",
      "each time 2 lost chunks has been detected. Otherwise, the quantization\n",
      "step size is divided by 1.1.\n",
      "(INFO) stereo_MST_coding_16: MST using 16 bits/coefficient.\n",
      "(INFO) stereo_MST_coding_32: MST using 32 bits/coefficient.\n",
      "(INFO) temporal_no_overlapped_DWT_coding_16: Removes the temporal (intra-channel) redundancy using the DWT. First the spatial (inter-channel) redundancy is removed.\n",
      "(INFO) temporal_no_overlapped_DWT_coding_16: wavelet name = db5\n",
      "(INFO) temporal_no_overlapped_DWT_coding_16: analysis filters's length = 10\n",
      "(INFO) temporal_no_overlapped_DWT_coding_16: synthesis filters's length = 10\n",
      "(INFO) temporal_no_overlapped_DWT_coding_16: DWT levels = 3\n",
      "(INFO) temporal_overlapped_DWT_coding:  Real-time Audio Intercommunicator (removes intra-channel redundancy with a DWT (Discrete Wavelet Transform)). \n",
      "(INFO) temporal_overlapped_DWT_coding: number of overlapped samples = 80\n",
      "(INFO) temporal_overlapped_DWT_coding: extended chunk size = 1184\n",
      "(INFO) basic_ToH:  Considering the threshold of human hearing. \n"
     ]
    }
   ],
   "source": [
    "!python ../src/basic_ToH.py -q 512 --show_stats -t 10 -f ../data/AviadorDro_LaZonaFantasma.oga"
   ]
  },
  {
   "cell_type": "markdown",
   "metadata": {},
   "source": [
    "## 8. Future work\n",
    "1. Use the [DCT (Discrete Cosine Transform)](https://en.wikipedia.org/wiki/Discrete_cosine_transform) to increase the frequency accuracy in each DWT subband.\n",
    "2. Consider the [masking effects](https://en.wikipedia.org/wiki/Auditory_masking).\n",
    "3. [Echo cancellation](https://en.wikipedia.org/wiki/Echo_suppression_and_cancellation).\n",
    "4. [Video](https://en.wikipedia.org/wiki/Video)!"
   ]
  },
  {
   "cell_type": "markdown",
   "metadata": {},
   "source": [
    "## Appendix"
   ]
  },
  {
   "cell_type": "markdown",
   "metadata": {},
   "source": [
    "### Resumen\n",
    "\n",
    "La transmisión en tiempo real de señales sobre redes de datos no dedicadas plantea problemas de latencia y de rendimiento. En este seminario se analizan las principales técnicas usadas para mitigar dichos problemas, y se evalúa su efectividad en InterCom (https://github.com/Tecnologias-multimedia/InterCom), una aplicación que permite la intercomunicación (mediante señales de audio) entre 2 usuarios conectados a Internet. Más información en https://github.com/Tecnologias-multimedia/InterCom/blob/master/docs/2-hours_seminar.ipynb.\n",
    "\n",
    "The real-time transmission of signals over non-dedicated data networks generates latency and performance issues. In this seminar, the main techniques used to mitigate these problems are analyzed, and their effectiveness is evaluated in InterCom (https://github.com/Tecnologias-multimedia/InterCom), an application that allows intercommunication (through audio signals) between 2 users connected to the Internet. More information at https://github.com/Tecnologias-multimedia/InterCom/blob/master/docs/2-hours_seminar.ipynb."
   ]
  }
 ],
 "metadata": {
  "kernelspec": {
   "display_name": "envs",
   "language": "python",
   "name": "python3"
  },
  "language_info": {
   "codemirror_mode": {
    "name": "ipython",
    "version": 3
   },
   "file_extension": ".py",
   "mimetype": "text/x-python",
   "name": "python",
   "nbconvert_exporter": "python",
   "pygments_lexer": "ipython3",
   "version": "3.11.9"
  }
 },
 "nbformat": 4,
 "nbformat_minor": 4
}
