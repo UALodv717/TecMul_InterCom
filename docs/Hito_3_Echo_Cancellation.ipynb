{
  "nbformat": 4,
  "nbformat_minor": 0,
  "metadata": {
    "colab": {
      "provenance": []
    },
    "kernelspec": {
      "name": "python3",
      "display_name": "Python 3"
    },
    "language_info": {
      "name": "python"
    }
  },
  "cells": [
    {
      "cell_type": "markdown",
      "source": [
        "# Echo Cancellation"
      ],
      "metadata": {
        "id": "lfmGzzi7aRDv"
      }
    },
    {
      "cell_type": "markdown",
      "source": [
        "## Introducción\n",
        "\n",
        "Para este hito se ha tratado de implementar un código que evite la retroalimentación del audio, es decir, que cuando el audio emitido por los altavoces de un dispositivo vuelva al micrófono del mismo, este no sea reenviado de vuelta al interlocutor que lo produjo o que en caso de hacerlo no viaje una tercera vez."
      ],
      "metadata": {
        "id": "lGdmWdGkahtg"
      }
    },
    {
      "cell_type": "markdown",
      "source": [
        "## Solución al problema\n",
        "\n",
        "De las tres posibilidades que se nos ha explicado, se ha elegido la primera (\"s(t) delay and substract solution\").\n",
        "\n",
        "A continuación se explica paso a paso cómo funciona la implementación.\n",
        "\n",
        "\n",
        "1.   Se empieza enviando un único pulso al buffer.\n",
        "2.   Después, se recoge del buffer y se inicia un hilo para calcular en segundo plano el retraso del eco y poder atenuarlo.\n",
        "3.   Para calcular el retraso (d) y la atenuación necesaria (a), se ha creado un método llamado \"estimate_delay_and_attenuation\". Este método se encarga de lo siguiente:\n",
        "  *   Concatena el chunk enviado y recogido del buffer para procesamiento.\n",
        "  *   Se tiene que realizar la correlación entre el chunk recibido y el concatenado, para así ver cuánto tiempo tarda en recibirse el eco por la retroalimentación. Se tiene que hacer para ambos canales, y tras ello se realiza una media para así conseguir un retraso medio por canal.\n",
        "  *   Se calcula el pico más alto de la atenuación de la señal enviada y la recibida, y tras ello se divide la última con la primera, consiguiendo así la atenuación.\n",
        "  *   Por último, al retraso se le suma el tiempo de buffering que se he haya elegido (sea el predeterminado, 150 ms, u otro)."
      ],
      "metadata": {
        "id": "szhYKCbarfLr"
      }
    },
    {
      "cell_type": "markdown",
      "source": [
        "## Puntos claves del código\n",
        "\n",
        "* Dentro del código se utiliza un filtro de paso bajo (véase entre las líneas 33-40). La función de dicho filtro en nuestro código consiste en reducir el ruido de las señales que van transmitiéndose entre los dispositivos que participan en la transmisión.\n",
        "\n",
        "* También se hace uso de un hilo para realizar el cálculo de la atenuación y el retraso para que de esta forma no se vea interrumpido el procesamiento en tiempo real."
      ],
      "metadata": {
        "id": "zgpGjjoIbApV"
      }
    },
    {
      "cell_type": "markdown",
      "source": [
        "## Resultados de ejecución\n",
        "\n",
        "Dependiendo de las características de los dispositivos usados los resultados varían en gran medida. Se han realizado múltiples pruebas entre los miembros del equipo, el mayor caso de éxito se da cuando los integrantes Mary y Manuel se comunican, ya que tienen una comunicación aceptable aunque ocasionalmente si ocurren errores en el audio. Además, en este caso, cabe destacar que si parte del audio vuelve al dispositivo no se genera retroalimentacion indefinida.\n",
        "\n",
        "En las pruebas con Giovanna, ella escucha de manera aceptable al resto de miembros pero por lo general su audio sale gravemente perjudicado, haciendo que el receptor no pueda interpretarlo.\n",
        "\n",
        "Por parte de Oliver no se han podido realizar tantas pruebas como con el resto de miembros debido a que un trasformador que alimenta las comunicaciones de su casa se ha incendiado. Por otro lado, se ha podido verificar que la comunicación con Mary fluctúa, ya que ella casi siempre logra escuchar de manera aceptable a Oliver pero sólo lograba interpretar aproximadamente tres cuartos del audio.\n",
        "\n",
        "Finalmente, se llega a la conclusión de que dependiendo del sistema operativo en el que se esté realizando la ejecución y el dispositivo que se esté utilizando, los resultados pueden llegar a variar. Esto posiblemente se deba al manejo de audio que implementa cada uno y otras características que influyen en el desempeño del programa."
      ],
      "metadata": {
        "id": "lHoZfglLbTiu"
      }
    },
    {
      "cell_type": "markdown",
      "source": [
        "## Bibliografía\n",
        "\n",
        "Para el desarrollo de esta actividad se ha hecho uso de los apuntes de la asignatura y concretamente se han revisado las fuentes listadas a continuación.\n",
        "\n",
        "[1]   S. Haykin. Adaptive Filter Theory (3rd edition). Prentice Hall, 1995.\n",
        "\n",
        "[2]   J. Kovačević, V.K. Goyal, and M. Vetterli. Fourier and Wavelet Signal Processing. http://www.fourierandwavelets.org/, 2013."
      ],
      "metadata": {
        "id": "GhVxjqav8OuW"
      }
    }
  ]
}